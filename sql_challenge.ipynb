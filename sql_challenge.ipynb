{
  "nbformat": 4,
  "nbformat_minor": 0,
  "metadata": {
    "colab": {
      "provenance": []
    },
    "kernelspec": {
      "name": "python3",
      "display_name": "Python 3"
    },
    "language_info": {
      "name": "python"
    }
  },
  "cells": [
    {
      "cell_type": "code",
      "source": [
        "import sqlite3\n",
        "import pandas as pd"
      ],
      "metadata": {
        "id": "4Spj3ajvOzR6"
      },
      "execution_count": 43,
      "outputs": []
    },
    {
      "cell_type": "code",
      "source": [
        "#Se crea una conexiòn a una BDD en memoria local\n",
        "conn = sqlite3.connect(':memory:')"
      ],
      "metadata": {
        "id": "6MrWRP6hPHd4"
      },
      "execution_count": 44,
      "outputs": []
    },
    {
      "cell_type": "code",
      "execution_count": 45,
      "metadata": {
        "id": "2wJrCLo9qA_D"
      },
      "outputs": [],
      "source": [
        "#Se crea la tabla aerolinea y se insertan los datos correspondientes\n",
        "conn.execute(\"\"\"CREATE TABLE aerolinea (id_aerolinea INT PRIMARY KEY, nombre_aerolinea TEXT);\"\"\")\n",
        "conn.execute(\"\"\"INSERT INTO aerolinea (id_aerolinea, nombre_aerolinea) VALUES (1, 'Volaris');\"\"\")\n",
        "conn.execute(\"\"\"INSERT INTO aerolinea (id_aerolinea, nombre_aerolinea) VALUES (2, 'Aeromar');\"\"\")\n",
        "conn.execute(\"\"\"INSERT INTO aerolinea (id_aerolinea, nombre_aerolinea) VALUES (3, 'Interjet');\"\"\")\n",
        "conn.execute(\"\"\"INSERT INTO aerolinea (id_aerolinea, nombre_aerolinea) VALUES (4, 'Aeromexico');\"\"\")\n",
        "conn.commit()"
      ]
    },
    {
      "cell_type": "code",
      "source": [
        "#Se crea la tabla aeropuertos y se insertan los datos correspondientes\n",
        "conn.execute(\"\"\"CREATE TABLE aeropuertos (id_aeropuerto INT PRIMARY KEY, nombre_aeropuerto TEXT);\"\"\")\n",
        "conn.execute(\"\"\"INSERT INTO aeropuertos (id_aeropuerto, nombre_aeropuerto) VALUES (1, 'Benito Juarez');\"\"\")\n",
        "conn.execute(\"\"\"INSERT INTO aeropuertos (id_aeropuerto, nombre_aeropuerto) VALUES (2, 'Guanajuato');\"\"\")\n",
        "conn.execute(\"\"\"INSERT INTO aeropuertos (id_aeropuerto, nombre_aeropuerto) VALUES (3, 'La Paz');\"\"\")\n",
        "conn.execute(\"\"\"INSERT INTO aeropuertos (id_aeropuerto, nombre_aeropuerto) VALUES (4, 'Oaxaca');\"\"\")\n",
        "conn.commit()"
      ],
      "metadata": {
        "id": "XgYBo3i-QkUu"
      },
      "execution_count": 46,
      "outputs": []
    },
    {
      "cell_type": "code",
      "source": [
        "#Se crea la tabla movimientos y se insertan los datos correspondientes\n",
        "conn.execute(\"\"\"CREATE TABLE movimientos ( id_movimiento INT PRIMARY KEY, descripcion TEXT NOT NULL);\"\"\")\n",
        "conn.execute(\"\"\"INSERT INTO movimientos (id_movimiento, descripcion) VALUES (1, 'Salida');\"\"\")\n",
        "conn.execute(\"\"\"INSERT INTO movimientos (id_movimiento, descripcion) VALUES (2, 'Llegada');\"\"\")\n",
        "conn.commit()"
      ],
      "metadata": {
        "id": "uhOYfeGSQlcA"
      },
      "execution_count": 47,
      "outputs": []
    },
    {
      "cell_type": "code",
      "source": [
        "# Crear la tabla vuelos y se insertan los datos correspondientes\n",
        "conn.execute(\"\"\"\n",
        "CREATE TABLE vuelos (\n",
        "    id_aerolinea  INT,\n",
        "    id_aeropuerto INT,\n",
        "    id_movimiento INT,\n",
        "    dia           TEXT,\n",
        "    FOREIGN KEY (id_aeropuerto) REFERENCES aeropuertos (id_aeropuerto),\n",
        "    FOREIGN KEY (id_movimiento) REFERENCES movimientos (id_movimiento),\n",
        "    FOREIGN KEY (id_aerolinea) REFERENCES aerolinea (id_aerolinea)\n",
        ");\n",
        "\"\"\")\n",
        "conn.execute(\"\"\"INSERT INTO vuelos ( id_aerolinea, id_aeropuerto, id_movimiento, dia) VALUES (1, 1, 1, '2021-05-02');\"\"\")\n",
        "conn.execute(\"\"\"INSERT INTO vuelos ( id_aerolinea, id_aeropuerto, id_movimiento, dia) VALUES (2, 1, 1, '2021-05-02');\"\"\")\n",
        "conn.execute(\"\"\"INSERT INTO vuelos ( id_aerolinea, id_aeropuerto, id_movimiento, dia) VALUES (3, 2, 2, '2021-05-02');\"\"\")\n",
        "conn.execute(\"\"\"INSERT INTO vuelos ( id_aerolinea, id_aeropuerto, id_movimiento, dia) VALUES (4, 3, 2, '2021-05-02');\"\"\")\n",
        "conn.execute(\"\"\"INSERT INTO vuelos ( id_aerolinea, id_aeropuerto, id_movimiento, dia) VALUES (1, 3, 2, '2021-05-02');\"\"\")\n",
        "conn.execute(\"\"\"INSERT INTO vuelos ( id_aerolinea, id_aeropuerto, id_movimiento, dia) VALUES (2, 1, 1, '2021-05-02');\"\"\")\n",
        "conn.execute(\"\"\"INSERT INTO vuelos ( id_aerolinea, id_aeropuerto, id_movimiento, dia) VALUES (2, 3, 1, '2021-05-04');\"\"\")\n",
        "conn.execute(\"\"\"INSERT INTO vuelos ( id_aerolinea, id_aeropuerto, id_movimiento, dia) VALUES (3, 4, 1, '2021-05-04');\"\"\")\n",
        "conn.execute(\"\"\"INSERT INTO vuelos ( id_aerolinea, id_aeropuerto, id_movimiento, dia) VALUES (3, 4, 1, '2021-05-04');\"\"\")\n",
        "conn.commit()\n"
      ],
      "metadata": {
        "id": "9FuxhuHYTucM"
      },
      "execution_count": 48,
      "outputs": []
    },
    {
      "cell_type": "code",
      "source": [
        "print(\"\"\"1. ¿Cuál es el nombre aeropuerto que ha tenido mayor movimiento durante el año?\"\"\")\n",
        "query = \"\"\"\n",
        "WITH conteo_movimientos as (\n",
        "SELECT  id_aeropuerto,\n",
        "        COUNT(id_aeropuerto) as conteo\n",
        "FROM vuelos GROUP BY 1\n",
        ")\n",
        "SELECT ae.nombre_aeropuerto\n",
        "FROM conteo_movimientos cm\n",
        "LEFT JOIN aeropuertos   ae         ON ae.id_aeropuerto = cm.id_aeropuerto\n",
        "WHERE conteo = (SELECT MAX(conteo) FROM conteo_movimientos)\n",
        "\n",
        " \"\"\"\n",
        "df = pd.read_sql(query, conn)\n",
        "print(df)"
      ],
      "metadata": {
        "colab": {
          "base_uri": "https://localhost:8080/"
        },
        "id": "CWoZLFGyPZh2",
        "outputId": "6a6ef0e0-8505-467b-c109-c2ba5efc8b25"
      },
      "execution_count": 49,
      "outputs": [
        {
          "output_type": "stream",
          "name": "stdout",
          "text": [
            "1. ¿Cuál es el nombre aeropuerto que ha tenido mayor movimiento durante el año?\n",
            "  nombre_aeropuerto\n",
            "0     Benito Juarez\n",
            "1            La Paz\n"
          ]
        }
      ]
    },
    {
      "cell_type": "code",
      "source": [
        "# Consideraremos ambos tipos de movimiento ya que no tenemos la certeza de que la salidas estén relacionadas con las llegadas, sería útil teniendo un id_vuelo\n",
        "print(\"\"\"2. ¿Cuál es el nombre aerolínea que ha realizado mayor número de vuelos durante el año?\"\"\")\n",
        "query = \"\"\"\n",
        "WITH conteo_vuelos as (\n",
        "SELECT  id_aerolinea,\n",
        "        COUNT(id_aerolinea) as conteo\n",
        "FROM vuelos\n",
        "GROUP BY 1\n",
        ")\n",
        "SELECT ae.nombre_aerolinea\n",
        "FROM conteo_vuelos cv\n",
        "LEFT JOIN aerolinea   ae         ON ae.id_aerolinea = cv.id_aerolinea\n",
        "WHERE conteo = (SELECT MAX(conteo) FROM conteo_vuelos)\n",
        "\n",
        " \"\"\"\n",
        "df = pd.read_sql(query, conn)\n",
        "print(df)"
      ],
      "metadata": {
        "colab": {
          "base_uri": "https://localhost:8080/"
        },
        "id": "3imi4dWMlaJK",
        "outputId": "e7100afa-403a-4ac3-d56f-e45c74088b37"
      },
      "execution_count": 53,
      "outputs": [
        {
          "output_type": "stream",
          "name": "stdout",
          "text": [
            "2. ¿Cuál es el nombre aerolínea que ha realizado mayor número de vuelos durante el año?\n",
            "  nombre_aerolinea\n",
            "0          Aeromar\n",
            "1         Interjet\n"
          ]
        }
      ]
    },
    {
      "cell_type": "code",
      "source": [
        "# En esta pregunta consideramos un vuelo como una salida, las llegadas no las consideramos como vuelo\n",
        "print(\"\"\"3. ¿En qué día se han tenido mayor número de vuelos?\"\"\")\n",
        "query = \"\"\"\n",
        "WITH conteo_movimiento as (\n",
        "SELECT  dia,\n",
        "        COUNT(id_movimiento) as conteo\n",
        "FROM vuelos\n",
        "WHERE id_movimiento = 1\n",
        "GROUP BY 1\n",
        ")\n",
        "SELECT dia FROM conteo_movimiento WHERE conteo = (SELECT MAX(conteo) FROM conteo_movimiento)\n",
        "\n",
        " \"\"\"\n",
        "df = pd.read_sql(query, conn)\n",
        "print(df)\n",
        "#En este caso ambos dìas tuvieron el mismo número de vuelos"
      ],
      "metadata": {
        "colab": {
          "base_uri": "https://localhost:8080/"
        },
        "id": "YdVqL-walYu7",
        "outputId": "c720441c-9f9b-4f8b-df4a-9f94536d0ce5"
      },
      "execution_count": 55,
      "outputs": [
        {
          "output_type": "stream",
          "name": "stdout",
          "text": [
            "3. ¿En qué día se han tenido mayor número de vuelos?\n",
            "          dia\n",
            "0  2021-05-02\n",
            "1  2021-05-04\n"
          ]
        }
      ]
    },
    {
      "cell_type": "code",
      "source": [
        "#En este caso consideramos ambos tipos de movimiento, ya que se ve desde la perspectiva de aerolìnea\n",
        "print(\"\"\"4. ¿Cuáles son las aerolíneas que tienen mas de 2 vuelos por día? \"\"\")\n",
        "query = \"\"\"\n",
        "WITH conteo_movimiento as (\n",
        "SELECT  dia,\n",
        "        id_aerolinea,\n",
        "        COUNT(id_movimiento) as conteo\n",
        "FROM vuelos\n",
        "WHERE id_movimiento = 1\n",
        "GROUP BY 1,2\n",
        ")\n",
        "SELECT nombre_aerolinea,\n",
        "      dia,\n",
        "      conteo as conteo_vuelos\n",
        "FROM conteo_movimiento cm\n",
        "LEFT JOIN aerolinea   ae         ON ae.id_aerolinea = cm.id_aerolinea\n",
        "WHERE conteo > 1\n",
        " \"\"\"\n",
        "df = pd.read_sql(query, conn)\n",
        "print(df)\n",
        "#En este caso ninguna ha tenido más de dos salidas en los días establecidos, con WHERE conteo > 1 obtenemos que Aeromar e Interjet han tenido 2 vuelos esos dìas"
      ],
      "metadata": {
        "colab": {
          "base_uri": "https://localhost:8080/"
        },
        "id": "_xlIMLiqlX18",
        "outputId": "85a7317f-195f-45cc-d29c-c7277ed78162"
      },
      "execution_count": 63,
      "outputs": [
        {
          "output_type": "stream",
          "name": "stdout",
          "text": [
            "4. ¿Cuáles son las aerolíneas que tienen mas de 2 vuelos por día? \n",
            "  nombre_aerolinea         dia  conteo_vuelos\n",
            "0          Aeromar  2021-05-02              2\n",
            "1         Interjet  2021-05-04              2\n"
          ]
        }
      ]
    },
    {
      "cell_type": "code",
      "source": [
        "conn.close()"
      ],
      "metadata": {
        "id": "gFV-WYnIPZw4"
      },
      "execution_count": 40,
      "outputs": []
    }
  ]
}