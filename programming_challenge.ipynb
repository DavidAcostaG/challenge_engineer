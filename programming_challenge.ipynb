{
  "nbformat": 4,
  "nbformat_minor": 0,
  "metadata": {
    "colab": {
      "provenance": []
    },
    "kernelspec": {
      "name": "python3",
      "display_name": "Python 3"
    },
    "language_info": {
      "name": "python"
    }
  },
  "cells": [
    {
      "cell_type": "code",
      "source": [
        "import pandas as pd\n",
        "import requests\n",
        "import json"
      ],
      "metadata": {
        "id": "bWdNKH2aQtM-"
      },
      "execution_count": 46,
      "outputs": []
    },
    {
      "cell_type": "code",
      "source": [
        "#########################################################    PREGUNTA 1    #########################################################\n",
        "#Se usan funciones lambda por simplicidad, ya que solo se usaràn una vez en el còdigo\n",
        "#Funcion para obtener la respuesta del API de Stack\n",
        "url_reader = lambda url: requests.get(url) if requests.get(url).status_code == 200 else print(f'Error with the request: Code {requests.get(url).status_code}')"
      ],
      "metadata": {
        "id": "-cl0lNHlXST3"
      },
      "execution_count": 47,
      "outputs": []
    },
    {
      "cell_type": "code",
      "source": [
        "url_challenge = \"https://api.stackexchange.com/2.2/search?order=desc&sort=activity&intitle=perl&site=stackoverflow\""
      ],
      "metadata": {
        "id": "DsflU_aPR_Ad"
      },
      "execution_count": 48,
      "outputs": []
    },
    {
      "cell_type": "code",
      "source": [
        "url_response = url_reader(url_challenge)"
      ],
      "metadata": {
        "id": "lV8fq7prXwI6"
      },
      "execution_count": 49,
      "outputs": []
    },
    {
      "cell_type": "code",
      "source": [
        "#Funciòn para convertir a JSON la data de la respuesta del request\n",
        "response_to_json = lambda response: json.loads(response.text) if isinstance(json.loads(response.text), dict) else print('Response body does not contain a valid json format')"
      ],
      "metadata": {
        "id": "Tdg5_pmiZz6e"
      },
      "execution_count": 50,
      "outputs": []
    },
    {
      "cell_type": "code",
      "source": [
        "json_data = response_to_json(url_response)"
      ],
      "metadata": {
        "id": "gZLFqXejdXNU"
      },
      "execution_count": 51,
      "outputs": []
    },
    {
      "cell_type": "code",
      "source": [
        "#La informaciòn de interés está en la llave ITEMS, convertimos el contenido de esta llave en un dataframe de pandas\n",
        "df_stack = pd.json_normalize(json_data['items'])"
      ],
      "metadata": {
        "id": "J3rR40TvfioS"
      },
      "execution_count": 52,
      "outputs": []
    },
    {
      "cell_type": "code",
      "source": [
        "df_stack.columns"
      ],
      "metadata": {
        "colab": {
          "base_uri": "https://localhost:8080/"
        },
        "id": "k8PZlTau3lrT",
        "outputId": "0930f429-0107-4db3-be2c-a320b66ebe9f"
      },
      "execution_count": 53,
      "outputs": [
        {
          "output_type": "execute_result",
          "data": {
            "text/plain": [
              "Index(['tags', 'is_answered', 'view_count', 'accepted_answer_id',\n",
              "       'answer_count', 'score', 'last_activity_date', 'creation_date',\n",
              "       'last_edit_date', 'question_id', 'content_license', 'link', 'title',\n",
              "       'owner.reputation', 'owner.user_id', 'owner.user_type',\n",
              "       'owner.accept_rate', 'owner.profile_image', 'owner.display_name',\n",
              "       'owner.link', 'closed_date', 'closed_reason'],\n",
              "      dtype='object')"
            ]
          },
          "metadata": {},
          "execution_count": 53
        }
      ]
    },
    {
      "cell_type": "code",
      "source": [
        "#########################################################    PREGUNTA 2 #########################################################\n",
        "#Para StackOverflow una respuesta contestada se considera còmo tal, si al menos tiene una respuesta votada, considerando este caso:\n",
        "print(\"PREGUNTA 2\\n\")\n",
        "print(f'Respuestas contestadas según StackOverflow:\\n')\n",
        "print(df_stack['is_answered'].value_counts().values[0])\n",
        "print(f'Respuestas no contestadas según StackOverflow:\\n')\n",
        "print(df_stack['is_answered'].value_counts().values[1])"
      ],
      "metadata": {
        "colab": {
          "base_uri": "https://localhost:8080/"
        },
        "id": "fBlBXwjTxJqc",
        "outputId": "2e64ccab-fe3a-488d-8821-5d24f50a32f7"
      },
      "execution_count": 54,
      "outputs": [
        {
          "output_type": "stream",
          "name": "stdout",
          "text": [
            "PREGUNTA 2\n",
            "\n",
            "Respuestas contestadas:\n",
            "\n",
            "21\n",
            "Respuestas no contestadas:\n",
            "\n",
            "9\n"
          ]
        }
      ]
    },
    {
      "cell_type": "code",
      "source": [
        "#Si consideramos cualquier respuesta, sin importar las votaciones entonces el resultado serìa:\n",
        "print(f'Respuestas contestadas:\\n')\n",
        "print(sum(df_stack['answer_count']> 0))\n",
        "print(f'Respuestas no contestadas:\\n')\n",
        "print(sum(df_stack['answer_count']== 0))"
      ],
      "metadata": {
        "colab": {
          "base_uri": "https://localhost:8080/"
        },
        "id": "HRTjK2ADfvrA",
        "outputId": "af58098c-602e-413e-ddfd-fb9dbd301853"
      },
      "execution_count": 55,
      "outputs": [
        {
          "output_type": "stream",
          "name": "stdout",
          "text": [
            "Respuestas contestadas:\n",
            "\n",
            "23\n",
            "Respuestas no contestadas:\n",
            "\n",
            "7\n"
          ]
        }
      ]
    },
    {
      "cell_type": "code",
      "source": [
        "#########################################################    PREGUNTA 3    #########################################################\n",
        "#Dado que la data està a nivel pregunta, no tenemos las vistas a nivel respuesta, pero si las vistas de una pregunta, en ese caso, la pregunta con menor vistas es la siguiente:\n",
        "#Es una pregunta sin respuesta dada la definiciòn de stack pàra respuestas aceptadas\n",
        "min_view_count = df_stack['view_count'].min()\n",
        "print(\"PREGUNTA 3\\n\")\n",
        "print('Pregunta con menos vistas \\n question_id:',df_stack[df_stack['view_count'] == min_view_count]['question_id'].values)"
      ],
      "metadata": {
        "colab": {
          "base_uri": "https://localhost:8080/"
        },
        "id": "kCFwTylV7f-w",
        "outputId": "a3034674-e057-4d06-cf25-63bef19b314d"
      },
      "execution_count": 56,
      "outputs": [
        {
          "output_type": "stream",
          "name": "stdout",
          "text": [
            "PREGUNTA 3\n",
            "\n",
            "Pregunta con menos vistas \n",
            " question_id: [77006392]\n"
          ]
        }
      ]
    },
    {
      "cell_type": "code",
      "source": [
        "#########################################################    PREGUNTA 4    #########################################################\n",
        "dates_cols = ['last_activity_date',\n",
        "                  'creation_date',\n",
        "                  'last_edit_date',\n",
        "                  'closed_date']\n",
        "for date_col in dates_cols:\n",
        "    df_stack[date_col] = pd.to_datetime(df_stack[date_col], unit='s')"
      ],
      "metadata": {
        "id": "uOT4F3ONaVoK"
      },
      "execution_count": 57,
      "outputs": []
    },
    {
      "cell_type": "code",
      "source": [
        "#Nuevamente con esta informaciòn no es posible saber la fecha a nivel respuesta, ùnicamente a nivel pregunta, en este caso el resultado serìa el siguiente:\n",
        "min_date = df_stack['creation_date'].min()\n",
        "max_date = df_stack['creation_date'].max()\n",
        "print(\"PREGUNTA 4\")\n",
        "print('Pregunta màs antigua \\n question_id:', df_stack[df_stack['creation_date'] == min_date]['question_id'].values)\n",
        "print('Pregunta màs reciente \\n question_id:', df_stack[df_stack['creation_date'] == max_date]['question_id'].values)"
      ],
      "metadata": {
        "colab": {
          "base_uri": "https://localhost:8080/"
        },
        "id": "HgdlADk9ZdFv",
        "outputId": "db09f537-8a02-43e1-f844-83cd52409396"
      },
      "execution_count": 58,
      "outputs": [
        {
          "output_type": "stream",
          "name": "stdout",
          "text": [
            "PREGUNTA 4\n",
            "Pregunta màs antigua \n",
            " question_id: [829343]\n",
            "Pregunta màs reciente \n",
            " question_id: [77039567]\n"
          ]
        }
      ]
    },
    {
      "cell_type": "code",
      "source": [
        "#########################################################    PREGUNTA 5    #########################################################\n",
        "#Ocurre lo mismo que en anteriores puntos, pero podemos obtener la pregunta del owner con mejor reputaciòn:\n",
        "best_owner = df_stack['owner.reputation'].max()\n",
        "print(\"PREGUNTA 5\\n\")\n",
        "print('Pregunta del mejor owner \\n question_id:', df_stack[df_stack['owner.reputation'] == best_owner]['question_id'].values)"
      ],
      "metadata": {
        "id": "ZyyGp8tAaIBF",
        "colab": {
          "base_uri": "https://localhost:8080/"
        },
        "outputId": "d6ed236c-3bad-458a-f7e6-d0a6e575a5ad"
      },
      "execution_count": 59,
      "outputs": [
        {
          "output_type": "stream",
          "name": "stdout",
          "text": [
            "PREGUNTA 5\n",
            "\n",
            "Pregunta del mejor owner \n",
            " question_id: [33897817]\n"
          ]
        }
      ]
    },
    {
      "cell_type": "code",
      "source": [],
      "metadata": {
        "id": "FXogWxgvvsxn"
      },
      "execution_count": 59,
      "outputs": []
    }
  ]
}